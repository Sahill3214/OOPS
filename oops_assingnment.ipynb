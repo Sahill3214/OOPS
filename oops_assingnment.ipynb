{
  "nbformat": 4,
  "nbformat_minor": 0,
  "metadata": {
    "colab": {
      "provenance": []
    },
    "kernelspec": {
      "name": "python3",
      "display_name": "Python 3"
    },
    "language_info": {
      "name": "python"
    }
  },
  "cells": [
    {
      "cell_type": "code",
      "execution_count": 1,
      "metadata": {
        "colab": {
          "base_uri": "https://localhost:8080/",
          "height": 106
        },
        "id": "jCorGZpGGS9n",
        "outputId": "630113a8-4951-489a-d1a4-f8067e1610f6"
      },
      "outputs": [
        {
          "output_type": "error",
          "ename": "SyntaxError",
          "evalue": "unmatched ')' (<ipython-input-1-a62ecfe09c75>, line 1)",
          "traceback": [
            "\u001b[0;36m  File \u001b[0;32m\"<ipython-input-1-a62ecfe09c75>\"\u001b[0;36m, line \u001b[0;32m1\u001b[0m\n\u001b[0;31m    q.1) solution below.\u001b[0m\n\u001b[0m       ^\u001b[0m\n\u001b[0;31mSyntaxError\u001b[0m\u001b[0;31m:\u001b[0m unmatched ')'\n"
          ]
        }
      ],
      "source": [
        "q.1) solution below."
      ]
    },
    {
      "cell_type": "markdown",
      "source": [
        "The five key concepts of Object-Oriented Programming (OOP) are:\n",
        "\n",
        "Classes and Objects:\n",
        "\n",
        "A class is a blueprint for creating objects, defining properties (attributes) and behaviors (methods) that the objects created from the class can have.\n",
        "An object is an instance of a class, containing actual data based on the class's definition.\n",
        "\n",
        "Encapsulation:\n",
        "\n",
        "Encapsulation is the practice of bundling data (attributes) and methods that operate on the data into a single unit (class). It also restricts direct access to some of the object's components, which is typically achieved using access modifiers (like private, protected, and public).\n",
        "\n",
        "Inheritance:\n",
        "\n",
        "Inheritance allows a new class (subclass/child class) to inherit properties and behaviors from an existing class (superclass/parent class). This promotes code reuse and helps in hierarchical classification.\n",
        "\n",
        "Polymorphism:\n",
        "\n",
        "Polymorphism enables one interface to be used for a general class of actions. It allows objects of different classes to respond to the same function call in different ways, either through method overloading (compile-time polymorphism) or method overriding (runtime polymorphism).\n",
        "\n",
        "Abstraction:\n",
        "\n",
        "Abstraction involves simplifying complex reality by modeling classes based on relevant attributes and behaviors, while hiding unnecessary details. This is typically achieved through abstract classes and interfaces, which define the methods that derived classes must implement.\n",
        "These concepts together help in designing modular, reusable, and maintainable code."
      ],
      "metadata": {
        "id": "AlKb94MgHNTI"
      }
    },
    {
      "cell_type": "markdown",
      "source": [
        "Q.2) SOLUTION BELOW"
      ],
      "metadata": {
        "id": "nvun2PcNHYz3"
      }
    },
    {
      "cell_type": "markdown",
      "source": [
        "Here is a Python class for a Car that includes attributes for make, model, and year, along with a method to display the car's information:"
      ],
      "metadata": {
        "id": "EQseZr2wIDL2"
      }
    },
    {
      "cell_type": "code",
      "source": [
        "class Car:\n",
        "    def __init__(self, make, model, year): # Changed _init_ to __init__\n",
        "        self.make = make\n",
        "        self.model = model\n",
        "        self.year = year\n",
        "\n",
        "    def display_info(self):\n",
        "        print(f\"Car Information: {self.year} {self.make} {self.model}\")\n",
        "\n",
        "# Example usage:\n",
        "my_car = Car(\"Toyota\", \"FORTUNER\", 2024)\n",
        "my_car.display_info()"
      ],
      "metadata": {
        "colab": {
          "base_uri": "https://localhost:8080/"
        },
        "id": "bDa61sPBIA-c",
        "outputId": "2de49538-e493-4aba-b918-b4730d37c73a"
      },
      "execution_count": 4,
      "outputs": [
        {
          "output_type": "stream",
          "name": "stdout",
          "text": [
            "Car Information: 2024 Toyota FORTUNER\n"
          ]
        }
      ]
    },
    {
      "cell_type": "markdown",
      "source": [
        "Explanation:\n",
        "The _init_ method initializes the Car object with make, model, and year attributes.\n",
        "The display_info method prints out the car's details in a formatted way.\n",
        "In the example usage, we create an object my_car and call display_info to display the car's information."
      ],
      "metadata": {
        "id": "Qst39KZfIW2O"
      }
    },
    {
      "cell_type": "markdown",
      "source": [
        "Q.3) SOLUTION BELOW."
      ],
      "metadata": {
        "id": "g0M066mmIa4F"
      }
    },
    {
      "cell_type": "markdown",
      "source": [
        "Instance Methods:\n",
        "Definition: Instance methods are functions defined in a class that operate on an instance of the class. They have access to the instance (object) itself through the self parameter and can modify the instance's attributes.\n",
        "Usage: Instance methods are called on objects (instances of the class).\n",
        "\n",
        "\n",
        "Example:"
      ],
      "metadata": {
        "id": "kxnmLNU2Iefp"
      }
    },
    {
      "cell_type": "code",
      "source": [
        "class Car:\n",
        "    def __init__(self, make, model, year): # Corrected constructor name to __init__\n",
        "        self.make = make\n",
        "        self.model = model\n",
        "        self.year = year\n",
        "\n",
        "    # Instance method\n",
        "    def display_info(self):\n",
        "        print(f\"Car Information: {self.year} {self.make} {self.model}\")\n",
        "\n",
        "# Create an instance of the Car class\n",
        "my_car = Car(\"Honda\", \"Civic\", 2020)\n",
        "my_car.display_info()  # Output: Car Information: 2020 Honda Civic"
      ],
      "metadata": {
        "colab": {
          "base_uri": "https://localhost:8080/"
        },
        "id": "D9qT4K01IKYs",
        "outputId": "f16debeb-ff77-4736-ac89-a6a2c002f749"
      },
      "execution_count": 7,
      "outputs": [
        {
          "output_type": "stream",
          "name": "stdout",
          "text": [
            "Car Information: 2020 Honda Civic\n"
          ]
        }
      ]
    },
    {
      "cell_type": "markdown",
      "source": [
        "In this example, display_info is an instance method that accesses and prints the attributes of the specific Car instance (my_car)."
      ],
      "metadata": {
        "id": "qingYF5JJc2m"
      }
    },
    {
      "cell_type": "markdown",
      "source": [
        "Class Methods:\n",
        "Definition: Class methods are methods that operate on the class itself rather than on instances. They are defined using the @classmethod decorator, and the first parameter is cls (which refers to the class) instead of self. Class methods cannot modify instance attributes but can modify class-level attributes.\n",
        "Usage: Class methods are called on the class itself.\n",
        "\n",
        "\n",
        "Example:"
      ],
      "metadata": {
        "id": "kh4KKs8MJgrI"
      }
    },
    {
      "cell_type": "code",
      "source": [
        "class Car:\n",
        "    car_count = 0  # Class-level attribute\n",
        "\n",
        "    # Corrected constructor name to __init__\n",
        "    def __init__(self, make, model, year):\n",
        "        self.make = make\n",
        "        self.model = model\n",
        "        self.year = year\n",
        "        Car.car_count += 1\n",
        "\n",
        "    # Class method\n",
        "    @classmethod\n",
        "    def total_cars(cls):\n",
        "        print(f\"Total cars: {cls.car_count}\")\n",
        "\n",
        "# Create instances of the Car class\n",
        "car1 = Car(\"Honda\", \"Civic\", 2020)\n",
        "car2 = Car(\"Toyota\", \"Camry\", 2021)\n",
        "\n",
        "# Call class method\n",
        "Car.total_cars()  # Output: Total cars: 2\""
      ],
      "metadata": {
        "colab": {
          "base_uri": "https://localhost:8080/"
        },
        "id": "cn9tlYAtJnuf",
        "outputId": "8de31d72-c275-4714-a255-d24317d635a0"
      },
      "execution_count": 9,
      "outputs": [
        {
          "output_type": "stream",
          "name": "stdout",
          "text": [
            "Total cars: 2\n"
          ]
        }
      ]
    },
    {
      "cell_type": "markdown",
      "source": [
        "In this example, total_cars is a class method that accesses the class-level attribute car_count to display how many Car objects have been created."
      ],
      "metadata": {
        "id": "eHfP-a1HJ3u0"
      }
    },
    {
      "cell_type": "markdown",
      "source": [
        "Q.4) SOLUTION BELOW"
      ],
      "metadata": {
        "id": "b_-vDinRJ6w9"
      }
    },
    {
      "cell_type": "markdown",
      "source": [
        "Python doesn't directly support method overloading like some other languages (e.g., Java or C++), where multiple methods can have the same name but different parameter lists. However, Python achieves similar functionality through default arguments and variable-length arguments (using *args and **kwargs), allowing a single method to handle multiple cases.\n",
        "\n",
        "Example of Simulating Method Overloading in Python:\n",
        "\n",
        "Here's an example where we create a multiply method that can work with different numbers of arguments, simulating method overloading:"
      ],
      "metadata": {
        "id": "4amBgDMAL1R4"
      }
    },
    {
      "cell_type": "code",
      "source": [
        "class Calculator:\n",
        "    def multiply(self, a, b=1, c=1):\n",
        "        return a * b * c\n",
        "\n",
        "# Example usage:\n",
        "calc = Calculator()\n",
        "\n",
        "# Calling multiply with 1 argument\n",
        "print(calc.multiply(5))        # Output: 5 (5 * 1 * 1)\n",
        "\n",
        "# Calling multiply with 2 arguments\n",
        "print(calc.multiply(5, 3))     # Output: 15 (5 * 3 * 1)\n",
        "\n",
        "# Calling multiply with 3 arguments\n",
        "print(calc.multiply(5, 3, 2))  # Output: 30 (5 * 3 * 2)"
      ],
      "metadata": {
        "colab": {
          "base_uri": "https://localhost:8080/"
        },
        "id": "Ud6HG0RhJz6H",
        "outputId": "6e994ac2-8b8b-4264-852c-ffcf06250eba"
      },
      "execution_count": 10,
      "outputs": [
        {
          "output_type": "stream",
          "name": "stdout",
          "text": [
            "5\n",
            "15\n",
            "30\n"
          ]
        }
      ]
    },
    {
      "cell_type": "markdown",
      "source": [
        "In this example, the multiply method uses default arguments (b=1 and c=1) so it can be called with one, two, or three arguments. This simulates method overloading by allowing different numbers of arguments in a single method definition."
      ],
      "metadata": {
        "id": "y0A-dBn8L8zj"
      }
    },
    {
      "cell_type": "markdown",
      "source": [
        "Q.5)SOLUTION BVELOW."
      ],
      "metadata": {
        "id": "gZMI5_WtMB-Z"
      }
    },
    {
      "cell_type": "markdown",
      "source": [
        "In Python, access modifiers control the visibility and accessibility of class attributes and methods. Although Python does not enforce strict access control like some other languages (e.g., private, public in Java), it provides three commonly used conventions for achieving similar behavior:\n",
        "\n",
        "1.Public:\n",
        "\n",
        "Public members are accessible from any part of the code, both inside and outside the class.\n",
        "Notation: No underscore before the name.\n",
        "Example: self.name = \"sahil\""
      ],
      "metadata": {
        "id": "bbYZcKPlMF2-"
      }
    },
    {
      "cell_type": "code",
      "source": [
        "class Person:\n",
        "    def __init__(self, name):\n",
        "        self.name = name\n",
        "\n",
        "person = Person(\"sahil\")\n",
        "print(person.name)"
      ],
      "metadata": {
        "colab": {
          "base_uri": "https://localhost:8080/"
        },
        "id": "bWxTihM1VKrY",
        "outputId": "d0910bff-d5c9-4d23-a62c-98fd408e2142"
      },
      "execution_count": 13,
      "outputs": [
        {
          "output_type": "stream",
          "name": "stdout",
          "text": [
            "sahil\n"
          ]
        }
      ]
    },
    {
      "cell_type": "markdown",
      "source": [
        "2 Protected:\n",
        "\n",
        "Protected members are intended for internal use within the class and its subclasses. While they can still be accessed outside the class, this is discouraged.\n",
        "Notation: A single underscore _ before the name.\n",
        "Example: self._age = 25"
      ],
      "metadata": {
        "id": "UmxFsswqVd0A"
      }
    },
    {
      "cell_type": "code",
      "source": [
        "class Person:\n",
        "    def __init__(self, name, age): # Changed _init_ to __init__\n",
        "        self.name = name\n",
        "        self._age = age\n",
        "\n",
        "    def display(self):\n",
        "        print(f\"{self.name} is {self._age} years old.\")\n",
        "\n",
        "person = Person(\"sahil\", 25)\n",
        "print(person._age)"
      ],
      "metadata": {
        "colab": {
          "base_uri": "https://localhost:8080/"
        },
        "id": "tY5CAJwKVsfm",
        "outputId": "b8e48f94-04cd-48f7-bbf4-6db670276ca5"
      },
      "execution_count": 15,
      "outputs": [
        {
          "output_type": "stream",
          "name": "stdout",
          "text": [
            "25\n"
          ]
        }
      ]
    },
    {
      "cell_type": "markdown",
      "source": [
        "3.Private:\n",
        "\n",
        "Private members are meant to be accessed only within the class and not from outside, not even by subclasses. However, Python allows name mangling to make it harder (but not impossible) to access these attributes directly.\n",
        "Notation: A double underscore __ before the name.\n",
        "Example: self.__salary = 50000"
      ],
      "metadata": {
        "id": "8xTxQp8JV3qx"
      }
    },
    {
      "cell_type": "code",
      "source": [
        "class Employee:\n",
        "    def __init__(self, name, salary):\n",
        "        self.name = name\n",
        "        self.__salary = salary\n",
        "\n",
        "    def get_salary(self):\n",
        "        return self.__salary\n",
        "\n",
        "emp = Employee(\"Alice\", 50000)\n",
        "print(emp.get_salary())\n",
        "# print(emp.__salary)\n",
        "#print(emp.Employee_salary)"
      ],
      "metadata": {
        "colab": {
          "base_uri": "https://localhost:8080/"
        },
        "id": "A25NDKXQWC1h",
        "outputId": "ff8989b6-29cf-4896-fcc2-7e0803982f8a"
      },
      "execution_count": 18,
      "outputs": [
        {
          "output_type": "stream",
          "name": "stdout",
          "text": [
            "50000\n"
          ]
        }
      ]
    },
    {
      "cell_type": "markdown",
      "source": [
        "Q.6) SOLUTION BELOW"
      ],
      "metadata": {
        "id": "O1NvaWyYWUGx"
      }
    },
    {
      "cell_type": "markdown",
      "source": [
        "In Python, inheritance allows classes to derive from other classes, providing code reusability and a way to build relationships between classes. Python supports five types of inheritance:\n",
        "\n",
        "1. Single Inheritance:\n",
        "A class inherits from one single parent class.\n",
        "Example: class Dog(Animal)"
      ],
      "metadata": {
        "id": "g6z25mqkX56z"
      }
    },
    {
      "cell_type": "code",
      "source": [
        "class Animal:\n",
        "    def sound(self):\n",
        "        return \"Some sound\"\n",
        "\n",
        "class Dog(Animal):\n",
        "    def bark(self):\n",
        "        return \"Woof!\""
      ],
      "metadata": {
        "id": "Eq_4yIQdWLKc"
      },
      "execution_count": null,
      "outputs": []
    },
    {
      "cell_type": "markdown",
      "source": [
        "2. Multiple Inheritance:\n",
        "A class inherits from more than one parent class.\n",
        "Example: class Hybrid(Car, Boat)"
      ],
      "metadata": {
        "id": "a2iggTluYT1I"
      }
    },
    {
      "cell_type": "code",
      "source": [
        "class Car:\n",
        "    def drive(self):\n",
        "        return \"Driving a car\"\n",
        "\n",
        "class Boat:\n",
        "    def sail(self):\n",
        "        return \"Sailing a boat\"\n",
        "\n",
        "class Hybrid(Car, Boat):\n",
        "    pass"
      ],
      "metadata": {
        "id": "4rd7WScuYSYZ"
      },
      "execution_count": null,
      "outputs": []
    },
    {
      "cell_type": "markdown",
      "source": [
        "3. Multilevel Inheritance:\n",
        "A chain of inheritance where a class is derived from a class that is already a derived class.\n",
        "Example: class Grandchild(Child)"
      ],
      "metadata": {
        "id": "EM2K1BZ4tPd7"
      }
    },
    {
      "cell_type": "code",
      "source": [
        "class Animal:\n",
        "    def sound(self):\n",
        "        return \"Some sound\"\n",
        "\n",
        "class Dog(Animal):\n",
        "    def bark(self):\n",
        "        return \"Woof!\"\n",
        "\n",
        "class Labrador(Dog):\n",
        "    def size(self):\n",
        "        return \"Medium\""
      ],
      "metadata": {
        "id": "ppGG-PQ5YZy6"
      },
      "execution_count": 1,
      "outputs": []
    },
    {
      "cell_type": "markdown",
      "source": [
        "4. Hierarchical Inheritance:\n",
        "Multiple classes inherit from the same base class.\n",
        "Example: class Cat(Animal) and class Dog(Animal)"
      ],
      "metadata": {
        "id": "-YNOUFQetURp"
      }
    },
    {
      "cell_type": "code",
      "source": [
        "class Animal:\n",
        "    def sound(self):\n",
        "        return \"Some sound\"\n",
        "\n",
        "class Dog(Animal):\n",
        "    def bark(self):\n",
        "        return \"Woof!\"\n",
        "\n",
        "class Cat(Animal):\n",
        "    def meow(self):\n",
        "        return \"Meow\""
      ],
      "metadata": {
        "id": "6yJzgf9RtSzl"
      },
      "execution_count": 2,
      "outputs": []
    },
    {
      "cell_type": "markdown",
      "source": [
        "5. Hybrid Inheritance:\n",
        "A combination of more than one type of inheritance.\n",
        "This typically combines multiple inheritance and hierarchical inheritance patterns."
      ],
      "metadata": {
        "id": "KX9S4diatcnC"
      }
    },
    {
      "cell_type": "code",
      "source": [
        "class Vehicle:\n",
        "    def type(self):\n",
        "        return \"General vehicle\"\n",
        "\n",
        "class Car(Vehicle):\n",
        "    def drive(self):\n",
        "        return \"Driving a car\"\n",
        "\n",
        "class Boat(Vehicle):\n",
        "    def sail(self):\n",
        "        return \"Sailing a boat\"\n",
        "\n",
        "class AmphibiousVehicle(Car, Boat):\n",
        "    pass"
      ],
      "metadata": {
        "id": "6IGdNCUHtbIN"
      },
      "execution_count": 3,
      "outputs": []
    },
    {
      "cell_type": "markdown",
      "source": [
        "Example of Multiple Inheritance\n",
        "Here is an example of multiple inheritance, where the Hybrid class inherits features from both Car and Boat:"
      ],
      "metadata": {
        "id": "bVbL_AO4tm7S"
      }
    },
    {
      "cell_type": "code",
      "source": [
        "class Car:\n",
        "    def drive(self):\n",
        "        return \"Driving on the road\"\n",
        "\n",
        "class Boat:\n",
        "    def sail(self):\n",
        "        return \"Sailing on water\"\n",
        "\n",
        "class Hybrid(Car, Boat):\n",
        "    def transform(self):\n",
        "        return \"Switching between driving and sailing\"\n",
        "\n",
        "# Example usage:\n",
        "hybrid_vehicle = Hybrid()\n",
        "print(hybrid_vehicle.drive())\n",
        "print(hybrid_vehicle.sail())\n",
        "print(hybrid_vehicle.transform())"
      ],
      "metadata": {
        "colab": {
          "base_uri": "https://localhost:8080/"
        },
        "id": "BdIN7ATJtjhP",
        "outputId": "4e9bde81-09fd-40fc-9f60-1cedf25098a1"
      },
      "execution_count": 4,
      "outputs": [
        {
          "output_type": "stream",
          "name": "stdout",
          "text": [
            "Driving on the road\n",
            "Sailing on water\n",
            "Switching between driving and sailing\n"
          ]
        }
      ]
    },
    {
      "cell_type": "markdown",
      "source": [
        "Q.7) SOLUTION BELOW."
      ],
      "metadata": {
        "id": "-aEHw8t_t06D"
      }
    },
    {
      "cell_type": "markdown",
      "source": [
        "The Method Resolution Order (MRO) in Python defines the order in which a method is searched on a class and its bases. When you call a method on a class instance, Python follows the MRO to look for the method in the instance’s class, its base classes, and so forth, until it finds it. Python’s MRO is based on the C3 linearization algorithm, which ensures a consistent and predictable order, especially in complex inheritance hierarchies.\n",
        "\n",
        "Key Points of MRO:\n",
        "\n",
        "\n",
        "Single Inheritance: In cases of single inheritance, MRO is straightforward. Python will look for the method in the child class, then in its immediate parent class, and so on up the hierarchy.\n",
        "Multiple Inheritance: In cases of multiple inheritance, MRO follows a more complex path, adhering to the C3 linearization rules, which combine depth-first search with some constraints to ensure a consistent order.\n",
        "super() function relies on MRO to work correctly. When you use super(), Python looks up the next class in the MRO.\n",
        "\n",
        "\n",
        "Retrieving MRO Programmatically\n",
        "In Python, you can retrieve the MRO of a class using:\n",
        "\n",
        "<class>.mro() method.\n",
        "inspect.getmro(<class>) from the inspect module.\n",
        "\n",
        "\n",
        "\n",
        "Example"
      ],
      "metadata": {
        "id": "MWNrqj4iup1G"
      }
    },
    {
      "cell_type": "code",
      "source": [
        "class A: pass\n",
        "class B(A): pass\n",
        "class C(B): pass\n",
        "\n",
        "# Retrieve MRO using .mro() method\n",
        "print(C.mro())\n",
        "\n",
        "# Retrieve MRO using inspect.getmro()\n",
        "import inspect\n",
        "print(inspect.getmro(C))"
      ],
      "metadata": {
        "colab": {
          "base_uri": "https://localhost:8080/"
        },
        "id": "DFvBjwRftzGB",
        "outputId": "cd013e41-ac02-4be3-b001-93a96c8d059d"
      },
      "execution_count": 5,
      "outputs": [
        {
          "output_type": "stream",
          "name": "stdout",
          "text": [
            "[<class '__main__.C'>, <class '__main__.B'>, <class '__main__.A'>, <class 'object'>]\n",
            "(<class '__main__.C'>, <class '__main__.B'>, <class '__main__.A'>, <class 'object'>)\n"
          ]
        }
      ]
    },
    {
      "cell_type": "markdown",
      "source": [
        "Both methods will return a list of classes in the order Python will search for methods and attributes."
      ],
      "metadata": {
        "id": "fVxkC3sIu2-q"
      }
    },
    {
      "cell_type": "markdown",
      "source": [
        "Q.8) SOLUTION BELOW."
      ],
      "metadata": {
        "id": "jc9RNpDWu6xn"
      }
    },
    {
      "cell_type": "markdown",
      "source": [
        "Here's how you can create an abstract base class Shape with an abstract method area(), and two subclasses Circle and Rectangle that implement the area() method:"
      ],
      "metadata": {
        "id": "HdyHnDIHvwP3"
      }
    },
    {
      "cell_type": "code",
      "source": [
        "# Abstract base class\n",
        "from abc import ABC, abstractmethod  # Import ABC and abstractmethod from abc module\n",
        "import math  # Import math module\n",
        "\n",
        "class Shape(ABC):\n",
        "    @abstractmethod\n",
        "    def area(self):\n",
        "        pass\n",
        "\n",
        "# Circle subclass\n",
        "class Circle(Shape):\n",
        "    def __init__(self, radius):  # Correct the constructor name to __init__\n",
        "        self.radius = radius\n",
        "\n",
        "    def area(self):\n",
        "        return math.pi * (self.radius ** 2)\n",
        "\n",
        "# Rectangle subclass\n",
        "class Rectangle(Shape):\n",
        "    def __init__(self, width, height):  # Correct the constructor name to __init__\n",
        "        self.width = width\n",
        "        self.height = height\n",
        "\n",
        "    def area(self):\n",
        "        return self.width * self.height\n",
        "\n",
        "# Example usage\n",
        "circle = Circle(5)\n",
        "rectangle = Rectangle(4, 6)\n",
        "\n",
        "print(\"Circle area:\", circle.area())\n",
        "print(\"Rectangle area:\", rectangle.area())"
      ],
      "metadata": {
        "colab": {
          "base_uri": "https://localhost:8080/"
        },
        "id": "t0SHiUjvv1lY",
        "outputId": "252e0f82-b945-4cf3-96f8-982bdb7edf7e"
      },
      "execution_count": 7,
      "outputs": [
        {
          "output_type": "stream",
          "name": "stdout",
          "text": [
            "Circle area: 78.53981633974483\n",
            "Rectangle area: 24\n"
          ]
        }
      ]
    },
    {
      "cell_type": "markdown",
      "source": [
        "Explanation:\n",
        "\n",
        "\n",
        "Shape is an abstract base class with an abstract method area().\n",
        "Circle and Rectangle are concrete subclasses that implement the area() method to calculate their respective areas:\n",
        "Circle: Uses π * radius².\n",
        "Rectangle: Uses width * height.\n",
        "The area() method must be implemented in each subclass, or an error will occur if you try to instantiate the class directly."
      ],
      "metadata": {
        "id": "VrFG9DipwCL5"
      }
    },
    {
      "cell_type": "markdown",
      "source": [
        "Q.9)SOLUTION BELOW."
      ],
      "metadata": {
        "id": "OVXuZAq-wHs6"
      }
    },
    {
      "cell_type": "markdown",
      "source": [
        "Here's an example of how to demonstrate polymorphism by creating a function that works with different Shape objects to calculate and print their areas:"
      ],
      "metadata": {
        "id": "d4_clg-5wkuP"
      }
    },
    {
      "cell_type": "code",
      "source": [
        "def print_area(shape):\n",
        "    print(\"The area is:\", shape.area())\n",
        "\n",
        "# Example usage\n",
        "circle = Circle(5)\n",
        "rectangle = Rectangle(4, 6)\n",
        "\n",
        "# Using the same function for different shapes\n",
        "print_area(circle)      # Works with Circle object\n",
        "print_area(rectangle)   # Works with Rectangle object"
      ],
      "metadata": {
        "colab": {
          "base_uri": "https://localhost:8080/"
        },
        "id": "z0OMVMGnwAyP",
        "outputId": "302abb5e-91b8-42c5-c31d-c58261ae39d3"
      },
      "execution_count": 8,
      "outputs": [
        {
          "output_type": "stream",
          "name": "stdout",
          "text": [
            "The area is: 78.53981633974483\n",
            "The area is: 24\n"
          ]
        }
      ]
    },
    {
      "cell_type": "markdown",
      "source": [
        "Explanation\n",
        "\n",
        "\n",
        "The function print_area accepts any object that is a subclass of Shape and has implemented the area() method.\n",
        "This is an example of polymorphism: regardless of whether shape is a Circle or Rectangle, the function can calculate and print the area without knowing the specific type."
      ],
      "metadata": {
        "id": "N5N4GgvVwy4T"
      }
    },
    {
      "cell_type": "markdown",
      "source": [
        "Q.10) SOLUTION BELOW."
      ],
      "metadata": {
        "id": "Vd-Nj3ixwzTs"
      }
    },
    {
      "cell_type": "markdown",
      "source": [
        "Here's an implementation of encapsulation in a BankAccount class, with private attributes for balance and account_number. The class includes methods for depositing, withdrawing, and checking the balance:"
      ],
      "metadata": {
        "id": "KDZYxdWsxiL4"
      }
    },
    {
      "cell_type": "code",
      "source": [
        "class BankAccount:\n",
        "    def __init__(self, account_number, initial_balance=0): # Corrected constructor name\n",
        "        self.__account_number = account_number  # Private attribute\n",
        "        self.__balance = initial_balance         # Private attribute\n",
        "\n",
        "    def deposit(self, amount):\n",
        "        if amount > 0:\n",
        "            self.__balance += amount\n",
        "            print(f\"Deposited: RS{amount:.2f}\")\n",
        "        else:\n",
        "            print(\"Deposit amount must be positive.\")\n",
        "\n",
        "    def withdraw(self, amount):\n",
        "        if amount > 0:\n",
        "            if amount <= self.__balance:\n",
        "                self.__balance -= amount\n",
        "                print(f\"Withdrew: RS{amount:.2f}\")\n",
        "            else:\n",
        "                print(\"Insufficient funds for withdrawal.\")\n",
        "        else:\n",
        "            print(\"Withdrawal amount must be positive.\")\n",
        "\n",
        "    def get_balance(self):\n",
        "        return self.__balance\n",
        "\n",
        "    def get_account_number(self):\n",
        "        return self.__account_number\n",
        "\n",
        "# Example usage\n",
        "account = BankAccount(\"123456789\", 1000)\n",
        "\n",
        "# Deposit money\n",
        "account.deposit(500)\n",
        "\n",
        "# Withdraw money\n",
        "account.withdraw(200)\n",
        "\n",
        "# Check balance\n",
        "print(\"Current balance:\", account.get_balance())\n",
        "\n",
        "# Attempt to withdraw more than the balance\n",
        "account.withdraw(2000)\n",
        "\n",
        "# Print account number (demonstrating encapsulation)\n",
        "print(\"Account Number:\", account.get_account_number())"
      ],
      "metadata": {
        "colab": {
          "base_uri": "https://localhost:8080/"
        },
        "id": "KFS3guyPxwk9",
        "outputId": "82058ee3-c2dc-487a-d69b-cf92565258ed"
      },
      "execution_count": 11,
      "outputs": [
        {
          "output_type": "stream",
          "name": "stdout",
          "text": [
            "Deposited: RS500.00\n",
            "Withdrew: RS200.00\n",
            "Current balance: 1300\n",
            "Insufficient funds for withdrawal.\n",
            "Account Number: 123456789\n"
          ]
        }
      ]
    },
    {
      "cell_type": "markdown",
      "source": [
        "Explanation:\n",
        "Private Attributes:\n",
        "\n",
        "__account_number and __balance are private attributes, which means they cannot be accessed directly from outside the class.\n",
        "Methods:\n",
        "\n",
        "deposit(amount): Increases the balance by the specified amount if it's positive.\n",
        "withdraw(amount): Decreases the balance by the specified amount if there are sufficient funds.\n",
        "get_balance(): Returns the current balance.\n",
        "get_account_number(): Returns the account number.\n",
        "Example Usage:\n",
        "\n",
        "The example demonstrates how to create an account, deposit money, withdraw money, check the balance, and print the account number, illustrating how encapsulation works."
      ],
      "metadata": {
        "id": "2tbUMblayHPQ"
      }
    },
    {
      "cell_type": "markdown",
      "source": [
        "Q.11) SOLUTION BELOW."
      ],
      "metadata": {
        "id": "iC7sGd0RyMYp"
      }
    },
    {
      "cell_type": "markdown",
      "source": [
        "To demonstrate the use of the _str_ and _add_ magic methods in a class, I'll create a simple Vector class. This class will represent a mathematical vector and allow you to add two vectors together using the + operator. The _str_ method will allow for a readable string representation of the vector when printed.\n",
        "\n",
        "Implementation"
      ],
      "metadata": {
        "id": "Bw-CxWpfzMnj"
      }
    },
    {
      "cell_type": "code",
      "source": [
        "class Vector:\n",
        "    def __init__(self, x, y):\n",
        "        self.x = x\n",
        "        self.y = y\n",
        "\n",
        "    def __str__(self):\n",
        "        return f\"Vector({self.x}, {self.y})\"\n",
        "\n",
        "    def __add__(self, other):\n",
        "        if isinstance(other, Vector):\n",
        "            return Vector(self.x + other.x, self.y + other.y)\n",
        "        return NotImplemented\n",
        "\n",
        "v1 = Vector(2, 3)\n",
        "v2 = Vector(5, 7)\n",
        "\n",
        "\n",
        "print(v1)\n",
        "print(v2)\n",
        "\n",
        "v3 = v1 + v2\n",
        "\n",
        "print(v3)"
      ],
      "metadata": {
        "colab": {
          "base_uri": "https://localhost:8080/"
        },
        "id": "Tul1oizGzTe2",
        "outputId": "27a9a807-888e-424c-b5d1-960a36f8c8b6"
      },
      "execution_count": 13,
      "outputs": [
        {
          "output_type": "stream",
          "name": "stdout",
          "text": [
            "Vector(2, 3)\n",
            "Vector(5, 7)\n",
            "Vector(7, 10)\n"
          ]
        }
      ]
    },
    {
      "cell_type": "markdown",
      "source": [
        "Explanation\n",
        "\n",
        "\n",
        "_str_ Method:\n",
        "\n",
        "The _str_ method is overridden to provide a custom string representation of the Vector object. When you use the print() function or str() on an instance of Vector, it will return a formatted string that describes the vector.\n",
        "_add_ Method:\n",
        "\n",
        "The _add_ method is overridden to define how two Vector objects can be added together using the + operator. It checks if the other object is an instance of Vector, and if so, it returns a new Vector object whose components are the sums of the respective components of the two vectors.\n",
        "If the other object is not a Vector, it returns NotImplemented, allowing Python to handle the operation appropriately (e.g., by raising a TypeError).\n",
        "\n",
        "\n",
        "What These Methods Allow You To Do:\n",
        "\n",
        "\n",
        "_str_:\n",
        "\n",
        "Provides a readable string representation of the object, making it easier to understand what the object represents when printed or logged.\n",
        "\n",
        "\n",
        "_add_:\n",
        "\n",
        "Allows the use of the + operator to add two instances of the class, making the code cleaner and more intuitive when performing arithmetic operations on custom objects."
      ],
      "metadata": {
        "id": "SGRvgkuqzr_U"
      }
    },
    {
      "cell_type": "markdown",
      "source": [
        "Q.12) SOLUTION BELOW."
      ],
      "metadata": {
        "id": "W71fbQwiz73F"
      }
    },
    {
      "cell_type": "code",
      "source": [
        "import time  # Import the time module\n",
        "\n",
        "def timer_decorator(func):\n",
        "    def wrapper(*args, **kwargs):\n",
        "        start_time = time.time()\n",
        "        result = func(*args, **kwargs)\n",
        "        end_time = time.time()\n",
        "        execution_time = end_time - start_time\n",
        "        print(f\"Execution time of '{func.__name__}': {execution_time:.4f} seconds\")\n",
        "        return result\n",
        "    return wrapper"
      ],
      "metadata": {
        "id": "JpQV_PGL01fq"
      },
      "execution_count": 21,
      "outputs": []
    },
    {
      "cell_type": "markdown",
      "source": [
        "Q.13) SOLUTION BELOW."
      ],
      "metadata": {
        "id": "oxfz1kkP2w7O"
      }
    },
    {
      "cell_type": "markdown",
      "source": [
        "The diamond problem is a common issue that arises in multiple inheritance scenarios, particularly in object-oriented programming languages. It occurs when a class inherits from two classes that both inherit from a common superclass. This creates a diamond shape in the inheritance hierarchy.\n",
        "\n",
        "Diamond Problem Illustration\n",
        "\n",
        "Consider the following class structure:"
      ],
      "metadata": {
        "id": "avcOaYlT8Qhu"
      }
    },
    {
      "cell_type": "code",
      "source": [
        "       A\n",
        "      / \\\n",
        "     B   C\n",
        "      \\ /\n",
        "       D"
      ],
      "metadata": {
        "colab": {
          "base_uri": "https://localhost:8080/",
          "height": 106
        },
        "id": "2buBQkOq2frU",
        "outputId": "cbdc9e9b-f7e1-48a6-da7e-19fba43610cd"
      },
      "execution_count": 22,
      "outputs": [
        {
          "output_type": "error",
          "ename": "IndentationError",
          "evalue": "unexpected indent (<ipython-input-22-58f78c6c1138>, line 2)",
          "traceback": [
            "\u001b[0;36m  File \u001b[0;32m\"<ipython-input-22-58f78c6c1138>\"\u001b[0;36m, line \u001b[0;32m2\u001b[0m\n\u001b[0;31m    (B, C)\u001b[0m\n\u001b[0m    ^\u001b[0m\n\u001b[0;31mIndentationError\u001b[0m\u001b[0;31m:\u001b[0m unexpected indent\n"
          ]
        }
      ]
    },
    {
      "cell_type": "markdown",
      "source": [
        " In this example:\n",
        "\n",
        "Class A is the superclass.\n",
        "Classes B and C inherit from A.\n",
        "Class D inherits from both B and C.\n",
        "\n",
        "The diamond problem arises when D tries to access a method or attribute defined in A. There are two paths for D to reach A: through B and through C. This creates ambiguity about which path should be used to access A’s methods or attributes, leading to potential confusion and inconsistencies.\n",
        "\n",
        "How Python Resolves the Diamond Problem\n",
        "\n",
        "Python resolves the diamond problem using the Method Resolution Order (MRO). Python employs a C3 linearization algorithm, which ensures a consistent order in which classes are searched when invoking methods or attributes.\n",
        "\n",
        " How Python Resolves the Diamond Problem\n",
        "\n",
        "Python resolves the diamond problem using the Method Resolution Order (MRO). Python employs a C3 linearization algorithm, which ensures a consistent order in which classes are searched when invoking methods or attributes.\n",
        "\n",
        "\n",
        " Key Points of Python’s MRO:\n",
        "\n",
        "Order of Resolution: Python determines the order in which base classes are looked up, ensuring that the classes are resolved in a consistent manner. This is particularly important when the same method exists in multiple parent classes.\n",
        "\n",
        "C3 Linearization: Python uses a technique called C3 linearization (or C3 superclass linearization) to create a linear order of classes. This linearization respects the order in which classes are declared and ensures that no class is repeated in the order.\n",
        "\n",
        "\n",
        "Example\n",
        "\n",
        "Here’s a simple example to demonstrate the diamond problem and how Python resolves it:"
      ],
      "metadata": {
        "id": "pbk8N8098Z9A"
      }
    },
    {
      "cell_type": "code",
      "source": [
        "class A:\n",
        "    def greet(self):\n",
        "        print(\"Hello from A\")\n",
        "\n",
        "class B(A):\n",
        "    def greet(self):\n",
        "        print(\"Hello from B\")\n",
        "\n",
        "class C(A):\n",
        "    def greet(self):\n",
        "        print(\"Hello from C\")\n",
        "\n",
        "class D(B, C):\n",
        "    pass\n",
        "\n",
        "d = D()\n",
        "d.greet()"
      ],
      "metadata": {
        "colab": {
          "base_uri": "https://localhost:8080/"
        },
        "id": "RBo-D0Ap8P_t",
        "outputId": "afc40416-cc03-4c02-822a-a91591685d8c"
      },
      "execution_count": 24,
      "outputs": [
        {
          "output_type": "stream",
          "name": "stdout",
          "text": [
            "Hello from B\n"
          ]
        }
      ]
    },
    {
      "cell_type": "markdown",
      "source": [
        "Explanation of the Example:\n",
        "\n",
        "In this example, class D inherits from both B and C, which both inherit from A.\n",
        "When d.greet() is called, Python looks for the greet method in D, then in B, and finds it there.\n",
        "If D didn’t have a greet method, Python would check C next, and finally A if necessary."
      ],
      "metadata": {
        "id": "JXZI60H984FE"
      }
    },
    {
      "cell_type": "markdown",
      "source": [
        "Q.14)SOLUTION BELOW."
      ],
      "metadata": {
        "id": "wgsFnNbN88jx"
      }
    },
    {
      "cell_type": "code",
      "source": [
        "class MyClass:\n",
        "    instance_count = 0\n",
        "\n",
        "    def __init__(self):\n",
        "        MyClass.instance_count += 1\n",
        "\n",
        "    @classmethod\n",
        "    def get_instance_count(cls):\n",
        "        return cls.instance_count\n",
        "\n",
        "# Example usage\n",
        "if __name__ == \"__main__\":\n",
        "    obj1 = MyClass()\n",
        "    obj2 = MyClass()\n",
        "    obj3 = MyClass()\n",
        "\n",
        "    print(MyClass.get_instance_count())"
      ],
      "metadata": {
        "colab": {
          "base_uri": "https://localhost:8080/"
        },
        "id": "CoSsXbIq9l7V",
        "outputId": "9b33fc6b-24dd-4c41-974a-99cdcf9e7e77"
      },
      "execution_count": 26,
      "outputs": [
        {
          "output_type": "stream",
          "name": "stdout",
          "text": [
            "3\n"
          ]
        }
      ]
    },
    {
      "cell_type": "markdown",
      "source": [
        "Q.13) SOLUTION BELOW."
      ],
      "metadata": {
        "id": "gEB9v6GX94wE"
      }
    },
    {
      "cell_type": "code",
      "source": [
        "class YearUtils:\n",
        "    @staticmethod\n",
        "    def is_leap_year(year):\n",
        "        \"\"\"Check if a given year is a leap year.\"\"\"\n",
        "        if (year % 4 == 0 and year % 100 != 0) or (year % 400 == 0):\n",
        "            return True\n",
        "        else:\n",
        "            return False\n",
        "\n",
        "if __name__ == \"__main__\":\n",
        "    year_to_check = 2024\n",
        "    if YearUtils.is_leap_year(year_to_check):\n",
        "        print(f\"{year_to_check} is a leap year.\")\n",
        "    else:\n",
        "        print(f\"{year_to_check} is not a leap year.\")"
      ],
      "metadata": {
        "colab": {
          "base_uri": "https://localhost:8080/"
        },
        "id": "9HxZUPSA-G5X",
        "outputId": "f74c3295-061f-4dfc-e404-7a7947bf029d"
      },
      "execution_count": 30,
      "outputs": [
        {
          "output_type": "stream",
          "name": "stdout",
          "text": [
            "2024 is a leap year.\n"
          ]
        }
      ]
    },
    {
      "cell_type": "code",
      "source": [],
      "metadata": {
        "id": "RJNqaRnO-URW"
      },
      "execution_count": null,
      "outputs": []
    }
  ]
}